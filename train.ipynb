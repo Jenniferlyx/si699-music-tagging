{
 "cells": [
  {
   "cell_type": "code",
   "execution_count": null,
   "metadata": {
    "colab": {
     "base_uri": "https://localhost:8080/"
    },
    "executionInfo": {
     "elapsed": 1406,
     "status": "ok",
     "timestamp": 1680546922536,
     "user": {
      "displayName": "Yuxiao Liu",
      "userId": "00349421896740538734"
     },
     "user_tz": 240
    },
    "id": "QQsK0kcjOK8F",
    "outputId": "70cf75e3-fc67-42d0-cc54-a2ac046bcd50"
   },
   "outputs": [],
   "source": [
    "from google.colab import drive\n",
    "drive.mount('/content/gdrive')\n",
    "%cd /content/gdrive/MyDrive/si699-music-tagging/"
   ]
  },
  {
   "cell_type": "code",
   "execution_count": null,
   "metadata": {
    "id": "J6UgeAtwKJ8Q"
   },
   "outputs": [],
   "source": [
    "# %%python3 preprocessing/convert_npy.py"
   ]
  },
  {
   "cell_type": "code",
   "execution_count": 1,
   "metadata": {
    "id": "gB3UgwVXJoY4"
   },
   "outputs": [
    {
     "name": "stderr",
     "output_type": "stream",
     "text": [
      "/home/lyuxiao/.local/lib/python3.9/site-packages/torchvision/io/image.py:13: UserWarning: Failed to load image Python extension: /home/lyuxiao/.local/lib/python3.9/site-packages/torchvision/image.so: undefined symbol: _ZN3c104cuda20CUDACachingAllocator12recordStreamERKNS_7DataPtrENS0_10CUDAStreamE\n",
      "  warn(f\"Failed to load image Python extension: {e}\")\n"
     ]
    },
    {
     "name": "stdout",
     "output_type": "stream",
     "text": [
      "Run on: cpu\n"
     ]
    }
   ],
   "source": [
    "import os\n",
    "import random\n",
    "import torch\n",
    "import librosa\n",
    "import numpy as np\n",
    "import glob\n",
    "import torchaudio\n",
    "from sklearn.preprocessing import LabelBinarizer\n",
    "import csv\n",
    "from transformers import AutoConfig, AutoFeatureExtractor, Wav2Vec2FeatureExtractor\n",
    "from sklearn.metrics import *\n",
    "from run.models import *\n",
    "import collections\n",
    "import torch\n",
    "import yaml\n",
    "import json\n",
    "from tqdm import tqdm\n",
    "import torch.nn as nn\n",
    "import torch.nn.functional as F\n",
    "import matplotlib.pyplot as plt\n",
    "from transformers import BertModel, BertTokenizer\n",
    "# from transformers import ASTForAudioClassification, Wav2Vec2Processor, AutoConfig\n",
    "from transformers.models.wav2vec2.modeling_wav2vec2 import (\n",
    "    Wav2Vec2PreTrainedModel,\n",
    "    Wav2Vec2Model\n",
    ")\n",
    "import logging\n",
    "from torch.utils.tensorboard import SummaryWriter\n",
    "from torchmetrics.functional.classification import multilabel_auroc\n",
    "from torchmetrics.classification import MultilabelPrecision\n",
    "\n",
    "device = torch.device(\"cuda\" if torch.cuda.is_available() else \"cpu\")\n",
    "with open('config.yaml', 'r') as f:\n",
    "    config = yaml.safe_load(f)\n",
    "torch.manual_seed(config['seed'])\n",
    "random.seed(config['seed'])\n",
    "print(\"Run on:\", device)"
   ]
  },
  {
   "cell_type": "code",
   "execution_count": 2,
   "metadata": {
    "colab": {
     "base_uri": "https://localhost:8080/"
    },
    "executionInfo": {
     "elapsed": 6465,
     "status": "ok",
     "timestamp": 1680546932702,
     "user": {
      "displayName": "Yuxiao Liu",
      "userId": "00349421896740538734"
     },
     "user_tz": 240
    },
    "id": "lrWxObbsPRG-",
    "outputId": "1ef1171a-b975-4490-c24d-6118f2ea9b54"
   },
   "outputs": [],
   "source": [
    "class MyDataset(torch.utils.data.Dataset):\n",
    "    def __init__(self, tracks_dict, npy_root, config, tags, data_type, feature_extractor_type):\n",
    "        self.npy_root = npy_root\n",
    "        self.config = config\n",
    "        self.tracks_dict = tracks_dict\n",
    "        self.tags = tags\n",
    "        self.mlb = LabelBinarizer().fit(self.tags)\n",
    "        self.tokenizer = BertTokenizer.from_pretrained('bert-base-uncased')\n",
    "        self.title_dict = {}\n",
    "        self.prepare_title()\n",
    "        self.data = []\n",
    "        self.input_ids = []\n",
    "        self.attention_mask = []\n",
    "        self.labels = []\n",
    "        self.data_type = data_type\n",
    "        self.prepare_data()\n",
    "        self.feature_extractor_type = feature_extractor_type\n",
    "\n",
    "    def __len__(self):\n",
    "        return len(self.data)\n",
    "\n",
    "    def __getitem__(self, index):\n",
    "        assert 0 <= index < len(self)\n",
    "        waveform = self.data[index]\n",
    "        input_ids = self.input_ids[index]\n",
    "        attention_mask = self.attention_mask[index]\n",
    "        target = self.labels[index]\n",
    "        if self.feature_extractor_type == 'raw':\n",
    "            mel_spec = torch.Tensor(waveform)\n",
    "        if self.feature_extractor_type == 'ast':\n",
    "            feature_extractor = AutoFeatureExtractor.from_pretrained(\n",
    "                \"MIT/ast-finetuned-audioset-10-10-0.4593\",\n",
    "                sampling_rate=self.config['sample_rate'],\n",
    "                num_mel_bins=self.config['n_mels']\n",
    "            )\n",
    "            encoding = feature_extractor(waveform, sampling_rate=self.config['sample_rate'], annotations=target, return_tensors=\"pt\")\n",
    "            mel_spec = encoding['input_values'].squeeze()\n",
    "            mel_spec = torch.transpose(mel_spec, 0, 1)\n",
    "        if self.feature_extractor_type == 'wav2vec':\n",
    "            feature_extractor = Wav2Vec2FeatureExtractor.from_pretrained(\n",
    "                \"facebook/wav2vec2-base-960h\"\n",
    "            )\n",
    "            encoding = feature_extractor(waveform, sampling_rate=self.config['sample_rate'],\n",
    "                                         return_tensors=\"pt\")\n",
    "            mel_spec = encoding['input_values'].squeeze()\n",
    "        return mel_spec, input_ids, attention_mask, target\n",
    "    \n",
    "    def prepare_title(self):\n",
    "        whole_filenames = sorted(glob.glob(os.path.join(self.npy_root, \"*/*.npy\")))\n",
    "        titles = []\n",
    "        for filename in whole_filenames:\n",
    "            file_id = os.path.join(filename.split('/')[-2], filename.split('/')[-1].split('.')[0])\n",
    "            titles.append(self.tracks_dict[file_id][1])\n",
    "        encoding = self.tokenizer(titles, return_tensors='pt', padding=True, truncation=True)\n",
    "        input_ids = encoding['input_ids']\n",
    "        attention_mask = encoding['attention_mask']\n",
    "        for idx, filename in enumerate(whole_filenames):\n",
    "            file_id = os.path.join(filename.split('/')[-2], filename.split('/')[-1].split('.')[0])\n",
    "            self.title_dict[file_id] = (input_ids[idx], attention_mask[idx])\n",
    "        \n",
    "    def prepare_data(self):\n",
    "        whole_filenames = sorted(glob.glob(os.path.join(self.npy_root, \"*/*.npy\")))\n",
    "        train_size = int(len(whole_filenames) * 0.8)\n",
    "        filenames = []\n",
    "        random.shuffle(whole_filenames)\n",
    "        if self.data_type == 'train':\n",
    "            filenames = whole_filenames[:train_size]\n",
    "        if self.data_type == 'valid':\n",
    "            filenames = whole_filenames[train_size:]\n",
    "        for filename in tqdm(filenames):\n",
    "            file_id = os.path.join(filename.split('/')[-2], filename.split('/')[-1].split('.')[0])\n",
    "            if file_id not in self.tracks_dict:\n",
    "                print(file_id)\n",
    "                continue\n",
    "            self.data.append(np.load(filename))\n",
    "            self.input_ids.append(self.title_dict[file_id][0])\n",
    "            self.attention_mask.append(self.title_dict[file_id][1])\n",
    "            self.labels.append(np.sum(self.mlb.transform(self.tracks_dict[file_id][0]), axis=0))"
   ]
  },
  {
   "cell_type": "code",
   "execution_count": 3,
   "metadata": {},
   "outputs": [],
   "source": [
    "def get_tags(tag_file, npy_root, isMap):\n",
    "    id2title_dict = {}\n",
    "    with open('data/raw.meta.tsv') as fp:\n",
    "        reader = csv.reader(fp, delimiter='\\t')\n",
    "        next(reader, None)\n",
    "        for row in reader:\n",
    "            id2title_dict[row[0]] = row[3]\n",
    "\n",
    "    if isMap:\n",
    "        f = open('tag_categorize.json')\n",
    "        data = json.load(f)\n",
    "        categorize = {}\n",
    "        for k, v in data.items():\n",
    "            for i in v[1:-1].split(', '):\n",
    "                categorize[i] = k\n",
    "    tracks = {}\n",
    "    total_tags = []\n",
    "    with open(tag_file) as fp:\n",
    "        reader = csv.reader(fp, delimiter='\\t')\n",
    "        next(reader, None)  # skip header\n",
    "        for row in reader:\n",
    "            if not os.path.exists(os.path.join(npy_root, row[3].replace('.mp3', '.npy'))):\n",
    "                print(os.path.join(npy_root, row[3].replace('.mp3', '.npy')))\n",
    "                continue\n",
    "            track_id = row[3].split('.')[0]\n",
    "            tags = []\n",
    "            for tag in row[5:]:\n",
    "                if isMap:\n",
    "                    tags.append(categorize[tag.split('---')[-1]])\n",
    "                else:\n",
    "                    tags.append(tag.split('---')[-1])\n",
    "            tracks[track_id] = (list(set(tags)), id2title_dict[row[0]])\n",
    "            total_tags += list(set(tags))\n",
    "    print(\"Distribution of tags:\", collections.Counter(total_tags))\n",
    "    plt.figure(figsize=(10,3))\n",
    "    plt.xticks(rotation=90)\n",
    "    plt.hist(total_tags)\n",
    "    plt.savefig('dist.png')\n",
    "    return tracks, list(set(total_tags))"
   ]
  },
  {
   "cell_type": "code",
   "execution_count": 4,
   "metadata": {},
   "outputs": [
    {
     "name": "stdout",
     "output_type": "stream",
     "text": [
      "Preparing dataset...\n",
      "Distribution of tags: Counter({'happy': 1657, 'film': 1502, 'energetic': 1357, 'relaxing': 1350, 'emotional': 1271, 'melodic': 1213, 'dark': 1202, 'epic': 982, 'dream': 951, 'love': 909, 'inspiring': 877, 'sad': 749, 'meditative': 742, 'uplifting': 693, 'advertising': 673, 'deep': 635, 'motivational': 635, 'romantic': 627, 'christmas': 623, 'documentary': 612, 'corporate': 609, 'positive': 539, 'summer': 505, 'space': 503, 'background': 496, 'soundscape': 480, 'fun': 480, 'soft': 465, 'ambiental': 460, 'calm': 457, 'children': 456, 'adventure': 448, 'upbeat': 444, 'melancholic': 441, 'slow': 437, 'commercial': 428, 'drama': 424, 'movie': 413, 'action': 407, 'ballad': 334, 'dramatic': 317, 'sport': 297, 'trailer': 270, 'party': 266, 'game': 261, 'nature': 259, 'cool': 251, 'powerful': 238, 'hopeful': 216, 'retro': 213, 'funny': 203, 'groovy': 194, 'holiday': 176, 'travel': 171, 'horror': 158, 'heavy': 156, 'mellow': 154, 'sexy': 122, 'fast': 119})\n",
      "59\n"
     ]
    },
    {
     "data": {
      "image/png": "[encoded data removed]",
      "text/plain": [
       "<Figure size 720x216 with 1 Axes>"
      ]
     },
     "metadata": {
      "needs_background": "light"
     },
     "output_type": "display_data"
    }
   ],
   "source": [
    "print(\"Preparing dataset...\")\n",
    "tag_file = 'data/autotagging_moodtheme.tsv'\n",
    "npy_root = 'data/waveform'\n",
    "tracks_dict, tags = get_tags(tag_file, npy_root, False)\n",
    "N_CLASSES = len(tags)\n",
    "print(N_CLASSES)"
   ]
  },
  {
   "cell_type": "code",
   "execution_count": 5,
   "metadata": {},
   "outputs": [
    {
     "name": "stderr",
     "output_type": "stream",
     "text": [
      "100%|██████████| 14788/14788 [07:00<00:00, 35.16it/s]\n",
      "100%|██████████| 3698/3698 [00:23<00:00, 160.30it/s]\n"
     ]
    }
   ],
   "source": [
    "transform = 'raw'\n",
    "batch_size = 4\n",
    "train_dataset = MyDataset(tracks_dict, npy_root, config, tags, \"train\", transform)\n",
    "val_dataset = MyDataset(tracks_dict, npy_root, config, tags, \"valid\", transform)\n",
    "train_loader = torch.utils.data.DataLoader(train_dataset, batch_size=batch_size)\n",
    "val_loader = torch.utils.data.DataLoader(val_dataset, batch_size=batch_size)"
   ]
  },
  {
   "cell_type": "code",
   "execution_count": 6,
   "metadata": {},
   "outputs": [
    {
     "name": "stdout",
     "output_type": "stream",
     "text": [
      "tensor([[ 0.2647, -0.1546, -0.0190,  ...,  0.0558, -0.7055,  0.2956],\n",
      "        [-0.0667,  0.2654,  0.1454,  ...,  0.1265, -0.0362, -0.0065],\n",
      "        [-0.0720, -0.0663,  0.0706,  ..., -0.5072, -0.0366,  0.1323],\n",
      "        [ 0.1688, -0.2995, -0.1785,  ...,  0.3414, -0.2259, -0.1064]])\n",
      "tensor([[  101,  7484, 21262,   102,     0,     0,     0,     0,     0,     0,\n",
      "             0,     0,     0,     0,     0,     0,     0,     0,     0,     0,\n",
      "             0,     0,     0,     0,     0,     0,     0,     0,     0,     0,\n",
      "             0,     0,     0,     0,     0,     0,     0,     0,     0,     0,\n",
      "             0,     0,     0,     0,     0,     0,     0,     0,     0,     0,\n",
      "             0,     0,     0,     0,     0,     0,     0,     0,     0],\n",
      "        [  101,  5292,  1043, 19291,  2290,  1011,   100,  1770,   102,     0,\n",
      "             0,     0,     0,     0,     0,     0,     0,     0,     0,     0,\n",
      "             0,     0,     0,     0,     0,     0,     0,     0,     0,     0,\n",
      "             0,     0,     0,     0,     0,     0,     0,     0,     0,     0,\n",
      "             0,     0,     0,     0,     0,     0,     0,     0,     0,     0,\n",
      "             0,     0,     0,     0,     0,     0,     0,     0,     0],\n",
      "        [  101,  2064,  1005,  1056, 11997,   102,     0,     0,     0,     0,\n",
      "             0,     0,     0,     0,     0,     0,     0,     0,     0,     0,\n",
      "             0,     0,     0,     0,     0,     0,     0,     0,     0,     0,\n",
      "             0,     0,     0,     0,     0,     0,     0,     0,     0,     0,\n",
      "             0,     0,     0,     0,     0,     0,     0,     0,     0,     0,\n",
      "             0,     0,     0,     0,     0,     0,     0,     0,     0],\n",
      "        [  101,  3931, 18158,   102,     0,     0,     0,     0,     0,     0,\n",
      "             0,     0,     0,     0,     0,     0,     0,     0,     0,     0,\n",
      "             0,     0,     0,     0,     0,     0,     0,     0,     0,     0,\n",
      "             0,     0,     0,     0,     0,     0,     0,     0,     0,     0,\n",
      "             0,     0,     0,     0,     0,     0,     0,     0,     0,     0,\n",
      "             0,     0,     0,     0,     0,     0,     0,     0,     0]])\n",
      "tensor([[1, 1, 1, 1, 0, 0, 0, 0, 0, 0, 0, 0, 0, 0, 0, 0, 0, 0, 0, 0, 0, 0, 0, 0,\n",
      "         0, 0, 0, 0, 0, 0, 0, 0, 0, 0, 0, 0, 0, 0, 0, 0, 0, 0, 0, 0, 0, 0, 0, 0,\n",
      "         0, 0, 0, 0, 0, 0, 0, 0, 0, 0, 0],\n",
      "        [1, 1, 1, 1, 1, 1, 1, 1, 1, 0, 0, 0, 0, 0, 0, 0, 0, 0, 0, 0, 0, 0, 0, 0,\n",
      "         0, 0, 0, 0, 0, 0, 0, 0, 0, 0, 0, 0, 0, 0, 0, 0, 0, 0, 0, 0, 0, 0, 0, 0,\n",
      "         0, 0, 0, 0, 0, 0, 0, 0, 0, 0, 0],\n",
      "        [1, 1, 1, 1, 1, 1, 0, 0, 0, 0, 0, 0, 0, 0, 0, 0, 0, 0, 0, 0, 0, 0, 0, 0,\n",
      "         0, 0, 0, 0, 0, 0, 0, 0, 0, 0, 0, 0, 0, 0, 0, 0, 0, 0, 0, 0, 0, 0, 0, 0,\n",
      "         0, 0, 0, 0, 0, 0, 0, 0, 0, 0, 0],\n",
      "        [1, 1, 1, 1, 0, 0, 0, 0, 0, 0, 0, 0, 0, 0, 0, 0, 0, 0, 0, 0, 0, 0, 0, 0,\n",
      "         0, 0, 0, 0, 0, 0, 0, 0, 0, 0, 0, 0, 0, 0, 0, 0, 0, 0, 0, 0, 0, 0, 0, 0,\n",
      "         0, 0, 0, 0, 0, 0, 0, 0, 0, 0, 0]])\n",
      "tensor([[0, 0, 0, 0, 0, 0, 0, 0, 0, 0, 0, 0, 0, 0, 0, 0, 0, 0, 0, 1, 0, 0, 0, 0,\n",
      "         0, 0, 0, 0, 1, 0, 0, 0, 0, 0, 0, 0, 0, 0, 0, 0, 0, 0, 0, 0, 0, 0, 0, 0,\n",
      "         0, 0, 0, 0, 0, 0, 0, 0, 0, 0, 0],\n",
      "        [0, 0, 0, 0, 0, 0, 0, 0, 0, 0, 0, 0, 0, 0, 0, 0, 0, 0, 0, 0, 0, 0, 0, 0,\n",
      "         0, 0, 0, 0, 0, 0, 0, 0, 0, 0, 0, 0, 0, 0, 0, 0, 0, 0, 0, 0, 1, 0, 0, 0,\n",
      "         0, 0, 0, 0, 0, 0, 0, 0, 0, 0, 0],\n",
      "        [0, 0, 0, 0, 0, 0, 0, 0, 0, 0, 0, 0, 0, 0, 0, 0, 0, 0, 0, 1, 0, 0, 0, 0,\n",
      "         0, 0, 0, 0, 0, 0, 0, 0, 0, 0, 0, 0, 0, 0, 0, 0, 0, 0, 0, 0, 0, 0, 0, 0,\n",
      "         0, 0, 0, 0, 0, 0, 0, 0, 0, 0, 0],\n",
      "        [0, 0, 0, 0, 0, 0, 0, 0, 0, 0, 0, 0, 0, 0, 0, 0, 0, 0, 0, 0, 0, 0, 0, 0,\n",
      "         0, 0, 0, 0, 0, 0, 0, 0, 0, 1, 0, 0, 0, 0, 0, 0, 0, 0, 0, 0, 0, 0, 0, 0,\n",
      "         0, 0, 0, 0, 0, 0, 0, 0, 0, 0, 0]])\n"
     ]
    }
   ],
   "source": [
    "for waveform, input_ids, attention_mask, label in val_loader:\n",
    "    print(waveform)\n",
    "    print(input_ids)\n",
    "    print(attention_mask)\n",
    "    print(label)\n",
    "    break"
   ]
  },
  {
   "cell_type": "code",
   "execution_count": 7,
   "metadata": {
    "id": "GfVtoBLpK7Us"
   },
   "outputs": [],
   "source": [
    "def train(model, epoch, criterion, optimizer, train_loader, is_title=False):\n",
    "    losses = []\n",
    "    ground_truth = []\n",
    "    prediction = []\n",
    "    model.train()\n",
    "    for waveform, input_ids, attention_mask, label in tqdm(train_loader):\n",
    "        waveform, label = waveform.to(device), label.to(device)\n",
    "        input_ids, attention_mask = input_ids.to(device), attention_mask.to(device)\n",
    "        if is_title:\n",
    "            output = model(waveform, input_ids, attention_mask)\n",
    "        else:\n",
    "            output = model(waveform)\n",
    "        loss = criterion(output, label.float())\n",
    "        optimizer.zero_grad()\n",
    "        loss.backward()\n",
    "        optimizer.step()\n",
    "        losses.append(loss.cpu().detach())\n",
    "        ground_truth.append(label)\n",
    "        prediction.append(output)\n",
    "    get_eval_metrics(prediction, ground_truth, 'train', epoch, losses)\n",
    "\n",
    "\n",
    "@torch.no_grad()\n",
    "def validate(model, epoch, criterion, val_loader, is_title=False):\n",
    "    losses = []\n",
    "    ground_truth = []\n",
    "    prediction = []\n",
    "    model.eval()\n",
    "    for waveform, input_ids, attention_mask, label in tqdm(val_loader):\n",
    "        waveform, label = waveform.to(device), label.to(device)\n",
    "        input_ids, attention_mask = input_ids.to(device), attention_mask.to(device)\n",
    "        if is_title:\n",
    "            output = model(waveform, input_ids, attention_mask)\n",
    "        else:\n",
    "            output = model(waveform)\n",
    "        loss = criterion(output, label.float())\n",
    "        losses.append(loss.cpu().detach())\n",
    "        ground_truth.append(label)\n",
    "        prediction.append(output)\n",
    "    pre = get_eval_metrics(prediction, ground_truth, 'val', epoch, losses)\n",
    "    return pre\n",
    "\n",
    "\n",
    "def get_eval_metrics(outputs, labels, run_type, epoch, losses):\n",
    "    outputs = torch.cat(outputs, dim=0)\n",
    "    labels = torch.cat(labels, dim=0)\n",
    "    assert outputs.shape == labels.shape\n",
    "    # 1. number of correctly predicted tags divided by the total number of tags\n",
    "    prob_classes = []\n",
    "    for i in range(labels.size(0)):\n",
    "        label = labels[i]\n",
    "        k = label.sum()\n",
    "        _, idx = outputs[i].topk(k=k)\n",
    "        predict = torch.zeros_like(outputs[i])\n",
    "        predict[idx] = 1\n",
    "        prob_classes.append(predict)\n",
    "    prob_classes = torch.stack(prob_classes)\n",
    "    matched_1s = torch.mul(prob_classes, labels)\n",
    "    correct_tag_percentage = matched_1s.sum() / labels.sum()\n",
    "\n",
    "    # 2. Auroc\n",
    "    auroc = multilabel_auroc(outputs, labels, num_labels=N_CLASSES, average=\"macro\", thresholds=None).item()\n",
    "\n",
    "    # 3. avg precision\n",
    "    metric = MultilabelPrecision(average='macro', num_labels=N_CLASSES, thresholds=None).to(device)\n",
    "    pre = metric(outputs, labels).item()\n",
    "\n",
    "    # write tensorboard and logging file\n",
    "    writer.add_scalar(\"Loss/{}\".format(run_type), np.mean(losses), epoch)\n",
    "    writer.add_scalar(\"Auroc/{}\".format(run_type), auroc, epoch)\n",
    "    writer.add_scalar(\"Pre/{}\".format(run_type), pre, epoch)\n",
    "    writer.add_scalar(\"Avg_percent/{}\".format(run_type), correct_tag_percentage, epoch)\n",
    "    print(\"{} - epoch: {}, loss: {}, auroc: {}, pre: {}, avg percent: {}\".format(\n",
    "        run_type, epoch, np.mean(losses), auroc, pre, correct_tag_percentage))\n",
    "    logging.info(\"{} - epoch: {}, loss: {}, auroc: {}, pre: {}, avg percent: {}\".format(\n",
    "        run_type, epoch, np.mean(losses), auroc, pre, correct_tag_percentage))\n",
    "    return correct_tag_percentage\n",
    "\n",
    "\n",
    "def get_model(model_name, tags):\n",
    "    if model_name =='samplecnn':\n",
    "        model = SampleCNN(N_CLASSES, config).to(device)\n",
    "    elif model_name == 'crnn':\n",
    "        model = CRNN(N_CLASSES, config).to(device)\n",
    "    elif model_name =='fcn':\n",
    "        model = FCN(N_CLASSES, config).to(device)\n",
    "    elif model_name == 'musicnn':\n",
    "        model = Musicnn(N_CLASSES, config).to(device)\n",
    "    elif model_name == 'musicnn_title':\n",
    "        model = MusicnnwithTitle(N_CLASSES, config).to(device)\n",
    "    elif model_name == 'shortchunkcnn_res':\n",
    "        model = ShortChunkCNN_Res(N_CLASSES, config).to(device)\n",
    "    elif model_name == 'cnnsa':\n",
    "        model = CNNSA(N_CLASSES, config).to(device)\n",
    "    elif model_name == 'baseline2':\n",
    "        model = Baseline2(N_CLASSES, config).to(device)\n",
    "    elif model_name == 'wav2vec':\n",
    "        model_config = AutoConfig.from_pretrained(\n",
    "            \"facebook/wav2vec2-base-960h\",\n",
    "            num_labels=N_CLASSES,\n",
    "            label2id={label: i for i, label in enumerate(tags)},\n",
    "            id2label={i: label for i, label in enumerate(tags)},\n",
    "            finetuning_task=\"wav2vec2_clf\",\n",
    "        )\n",
    "        model = Wav2Vec2ForSpeechClassification(model_config).to(device)\n",
    "    else:\n",
    "        model = SampleCNN(N_CLASSES, config).to(device)\n",
    "    return model"
   ]
  },
  {
   "cell_type": "code",
   "execution_count": 8,
   "metadata": {},
   "outputs": [],
   "source": [
    "class MusicnnwithTitle(nn.Module):\n",
    "    def __init__(self, num_classes, config=None):\n",
    "        super(Musicnn, self).__init__()\n",
    "        self.spec = torchaudio.transforms.MelSpectrogram(sample_rate=config['sample_rate'],\n",
    "                                                  n_fft=config['n_fft'],\n",
    "                                                  f_min=config['fmin'],\n",
    "                                                  f_max=config['fmax'],\n",
    "                                                  n_mels=config['n_mels'])\n",
    "\n",
    "        # Spectrogram\n",
    "        self.to_db = torchaudio.transforms.AmplitudeToDB()\n",
    "        self.spec_bn = nn.BatchNorm2d(1)\n",
    "\n",
    "        # Pons front-end\n",
    "        m1 = Conv_V(1, 204, (int(0.7 * 96), 7))\n",
    "        m2 = Conv_V(1, 204, (int(0.4 * 96), 7))\n",
    "        m3 = Conv_H(1, 51, 129)\n",
    "        m4 = Conv_H(1, 51, 65)\n",
    "        m5 = Conv_H(1, 51, 33)\n",
    "        self.layers = nn.ModuleList([m1, m2, m3, m4, m5])\n",
    "\n",
    "        # Pons back-end\n",
    "        backend_channel = 512\n",
    "        self.layer1 = Conv_1d(561, backend_channel, kernel_size=7, stride=1, padding=3, pooling=1)\n",
    "        self.layer2 = Conv_1d(backend_channel, backend_channel, kernel_size=7, stride=1, padding=3, pooling=1)\n",
    "        self.layer3 = Conv_1d(backend_channel, backend_channel, kernel_size=7, stride=1, padding=3, pooling=1)\n",
    "\n",
    "        # Dense\n",
    "        dense_channel = 500\n",
    "        self.dense1 = nn.Linear((561 + (backend_channel * 3)) * 2, dense_channel)\n",
    "        self.bn = nn.BatchNorm1d(dense_channel)\n",
    "        self.relu = nn.ReLU()\n",
    "        self.dropout = nn.Dropout(0.5)\n",
    "        self.dense2 = nn.Linear(dense_channel, num_classes)\n",
    "        \n",
    "        self.bert = BertModel.from_pretrained('bert-base-uncased', return_dict=True)\n",
    "        self.dense3 = nn.Linear(self.bert.config.hidden_size, 256)\n",
    "        self.dense4 = nn.Linear(256, num_classes)\n",
    "        \n",
    "        self.dense5 = nn.Linear(2*num_classes, num_classes)\n",
    "        \n",
    "\n",
    "    def forward(self, x, input_ids=None, attention_mask=None):\n",
    "        # Spectrogram\n",
    "        x = self.spec(x)\n",
    "        x = self.to_db(x)\n",
    "        x = x.unsqueeze(1)\n",
    "        x = self.spec_bn(x)\n",
    "\n",
    "        # Pons front-end\n",
    "        out = []\n",
    "        for layer in self.layers:\n",
    "            out.append(layer(x))\n",
    "        out = torch.cat(out, dim=1)\n",
    "\n",
    "        # Pons back-end\n",
    "        length = out.size(2)\n",
    "        res1 = self.layer1(out)\n",
    "        res2 = self.layer2(res1) + res1\n",
    "        res3 = self.layer3(res2) + res2\n",
    "        out = torch.cat([out, res1, res2, res3], 1)\n",
    "\n",
    "        mp = nn.MaxPool1d(length)(out)\n",
    "        avgp = nn.AvgPool1d(length)(out)\n",
    "\n",
    "        out = torch.cat([mp, avgp], dim=1)\n",
    "        out = out.squeeze(2)\n",
    "\n",
    "        out = self.relu(self.bn(self.dense1(out)))\n",
    "        out = self.dropout(out)\n",
    "        out = self.dense2(out)\n",
    "        \n",
    "        out_title = self.bert(input_ids, attention_mask=attention_mask)\n",
    "        out_title = self.dense3(out_title.pooler_output)\n",
    "        out_title = self.dropout(out_title)\n",
    "        out_title = self.dense4(out_title)\n",
    "        \n",
    "        out = torch.cat((out_title, out), dim=1)\n",
    "        out = self.dense5(out)\n",
    "        out = nn.Sigmoid()(out)\n",
    "        return out"
   ]
  },
  {
   "cell_type": "code",
   "execution_count": 9,
   "metadata": {
    "colab": {
     "base_uri": "https://localhost:8080/"
    },
    "executionInfo": {
     "elapsed": 107097,
     "status": "ok",
     "timestamp": 1680549293386,
     "user": {
      "displayName": "Yuxiao Liu",
      "userId": "00349421896740538734"
     },
     "user_tz": 240
    },
    "id": "b8HVJCWOT9GP",
    "outputId": "456e25f9-da20-42cc-f539-6184a0204f1c"
   },
   "outputs": [
    {
     "name": "stderr",
     "output_type": "stream",
     "text": [
      "/home/lyuxiao/.local/lib/python3.9/site-packages/torchaudio/functional/functional.py:576: UserWarning: At least one mel filterbank has all zero values. The value for `n_mels` (128) may be set too high. Or, the value for `n_freqs` (257) may be set too low.\n",
      "  warnings.warn(\n",
      "Some weights of the model checkpoint at bert-base-uncased were not used when initializing BertModel: ['cls.predictions.bias', 'cls.seq_relationship.bias', 'cls.seq_relationship.weight', 'cls.predictions.transform.dense.weight', 'cls.predictions.transform.LayerNorm.bias', 'cls.predictions.transform.dense.bias', 'cls.predictions.decoder.weight', 'cls.predictions.transform.LayerNorm.weight']\n",
      "- This IS expected if you are initializing BertModel from the checkpoint of a model trained on another task or with another architecture (e.g. initializing a BertForSequenceClassification model from a BertForPreTraining model).\n",
      "- This IS NOT expected if you are initializing BertModel from the checkpoint of a model that you expect to be exactly identical (initializing a BertForSequenceClassification model from a BertForSequenceClassification model).\n"
     ]
    },
    {
     "name": "stdout",
     "output_type": "stream",
     "text": [
      "Training and validating model...\n"
     ]
    },
    {
     "name": "stderr",
     "output_type": "stream",
     "text": [
      "100%|██████████| 3697/3697 [07:39<00:00,  8.05it/s]\n"
     ]
    },
    {
     "name": "stdout",
     "output_type": "stream",
     "text": [
      "train - epoch: 0, loss: 0.07646988332271576, auroc: 0.9861521124839783, pre: 0.8669588565826416, avg percent: 0.8885020613670349\n"
     ]
    },
    {
     "name": "stderr",
     "output_type": "stream",
     "text": [
      "100%|██████████| 925/925 [00:33<00:00, 27.33it/s]\n"
     ]
    },
    {
     "name": "stdout",
     "output_type": "stream",
     "text": [
      "val - epoch: 0, loss: 0.25514987111091614, auroc: 0.8951526880264282, pre: 0.6540236473083496, avg percent: 0.673331081867218\n",
      "Best avg precision: tensor(0.6733, device='cuda:0')\n"
     ]
    },
    {
     "name": "stderr",
     "output_type": "stream",
     "text": [
      "100%|██████████| 3697/3697 [06:58<00:00,  8.84it/s]\n"
     ]
    },
    {
     "name": "stdout",
     "output_type": "stream",
     "text": [
      "train - epoch: 1, loss: 0.06391412019729614, auroc: 0.9908768534660339, pre: 0.8906944990158081, avg percent: 0.9169921875\n"
     ]
    },
    {
     "name": "stderr",
     "output_type": "stream",
     "text": [
      "100%|██████████| 925/925 [00:34<00:00, 27.13it/s]\n"
     ]
    },
    {
     "name": "stdout",
     "output_type": "stream",
     "text": [
      "val - epoch: 1, loss: 0.2741473615169525, auroc: 0.8943119049072266, pre: 0.689926266670227, avg percent: 0.668078601360321\n"
     ]
    },
    {
     "name": "stderr",
     "output_type": "stream",
     "text": [
      "100%|██████████| 3697/3697 [07:00<00:00,  8.79it/s]\n"
     ]
    },
    {
     "name": "stdout",
     "output_type": "stream",
     "text": [
      "train - epoch: 2, loss: 0.06071602925658226, auroc: 0.9917463064193726, pre: 0.9000226259231567, avg percent: 0.92357337474823\n"
     ]
    },
    {
     "name": "stderr",
     "output_type": "stream",
     "text": [
      "100%|██████████| 925/925 [00:34<00:00, 27.15it/s]\n"
     ]
    },
    {
     "name": "stdout",
     "output_type": "stream",
     "text": [
      "val - epoch: 2, loss: 0.27402856945991516, auroc: 0.8970816135406494, pre: 0.677152156829834, avg percent: 0.6685869097709656\n"
     ]
    },
    {
     "name": "stderr",
     "output_type": "stream",
     "text": [
      "100%|██████████| 3697/3697 [06:40<00:00,  9.22it/s]\n"
     ]
    },
    {
     "name": "stdout",
     "output_type": "stream",
     "text": [
      "train - epoch: 3, loss: 0.05837182328104973, auroc: 0.9925333857536316, pre: 0.9025216102600098, avg percent: 0.9270550012588501\n"
     ]
    },
    {
     "name": "stderr",
     "output_type": "stream",
     "text": [
      "100%|██████████| 925/925 [00:32<00:00, 28.62it/s]\n"
     ]
    },
    {
     "name": "stdout",
     "output_type": "stream",
     "text": [
      "val - epoch: 3, loss: 0.27218177914619446, auroc: 0.8983380198478699, pre: 0.6699137687683105, avg percent: 0.6785835027694702\n",
      "Best avg precision: tensor(0.6786, device='cuda:0')\n"
     ]
    },
    {
     "name": "stderr",
     "output_type": "stream",
     "text": [
      "100%|██████████| 3697/3697 [06:39<00:00,  9.25it/s]\n"
     ]
    },
    {
     "name": "stdout",
     "output_type": "stream",
     "text": [
      "train - epoch: 4, loss: 0.05657251551747322, auroc: 0.9929123520851135, pre: 0.9063295125961304, avg percent: 0.93215012550354\n"
     ]
    },
    {
     "name": "stderr",
     "output_type": "stream",
     "text": [
      "100%|██████████| 925/925 [00:32<00:00, 28.76it/s]\n"
     ]
    },
    {
     "name": "stdout",
     "output_type": "stream",
     "text": [
      "val - epoch: 4, loss: 0.26015374064445496, auroc: 0.9006295204162598, pre: 0.6780236959457397, avg percent: 0.691629946231842\n",
      "Best avg precision: tensor(0.6916, device='cuda:0')\n"
     ]
    },
    {
     "name": "stderr",
     "output_type": "stream",
     "text": [
      "100%|██████████| 3697/3697 [06:38<00:00,  9.27it/s]\n"
     ]
    },
    {
     "name": "stdout",
     "output_type": "stream",
     "text": [
      "train - epoch: 5, loss: 0.056826744228601456, auroc: 0.9928158521652222, pre: 0.904435396194458, avg percent: 0.93019700050354\n"
     ]
    },
    {
     "name": "stderr",
     "output_type": "stream",
     "text": [
      "100%|██████████| 925/925 [00:32<00:00, 28.89it/s]\n"
     ]
    },
    {
     "name": "stdout",
     "output_type": "stream",
     "text": [
      "val - epoch: 5, loss: 0.27713048458099365, auroc: 0.9002503752708435, pre: 0.6623246073722839, avg percent: 0.672653317451477\n"
     ]
    },
    {
     "name": "stderr",
     "output_type": "stream",
     "text": [
      "100%|██████████| 3697/3697 [06:39<00:00,  9.26it/s]\n"
     ]
    },
    {
     "name": "stdout",
     "output_type": "stream",
     "text": [
      "train - epoch: 6, loss: 0.05515450984239578, auroc: 0.9932425022125244, pre: 0.9089646339416504, avg percent: 0.9345703125\n"
     ]
    },
    {
     "name": "stderr",
     "output_type": "stream",
     "text": [
      "100%|██████████| 925/925 [00:32<00:00, 28.86it/s]\n"
     ]
    },
    {
     "name": "stdout",
     "output_type": "stream",
     "text": [
      "val - epoch: 6, loss: 0.27062129974365234, auroc: 0.899032711982727, pre: 0.6762994527816772, avg percent: 0.6928160190582275\n",
      "Best avg precision: tensor(0.6928, device='cuda:0')\n"
     ]
    },
    {
     "name": "stderr",
     "output_type": "stream",
     "text": [
      "100%|██████████| 3697/3697 [06:38<00:00,  9.27it/s]\n"
     ]
    },
    {
     "name": "stdout",
     "output_type": "stream",
     "text": [
      "train - epoch: 7, loss: 0.0534624420106411, auroc: 0.9937862753868103, pre: 0.911787748336792, avg percent: 0.93898606300354\n"
     ]
    },
    {
     "name": "stderr",
     "output_type": "stream",
     "text": [
      "100%|██████████| 925/925 [00:32<00:00, 28.77it/s]\n"
     ]
    },
    {
     "name": "stdout",
     "output_type": "stream",
     "text": [
      "val - epoch: 7, loss: 0.2738068699836731, auroc: 0.902097761631012, pre: 0.6846397519111633, avg percent: 0.6809555888175964\n"
     ]
    },
    {
     "name": "stderr",
     "output_type": "stream",
     "text": [
      "100%|██████████| 3697/3697 [06:39<00:00,  9.26it/s]\n"
     ]
    },
    {
     "name": "stdout",
     "output_type": "stream",
     "text": [
      "train - epoch: 8, loss: 0.05278297886252403, auroc: 0.9939206838607788, pre: 0.912427544593811, avg percent: 0.93800950050354\n"
     ]
    },
    {
     "name": "stderr",
     "output_type": "stream",
     "text": [
      "100%|██████████| 925/925 [00:32<00:00, 28.86it/s]\n"
     ]
    },
    {
     "name": "stdout",
     "output_type": "stream",
     "text": [
      "val - epoch: 8, loss: 0.2737002670764923, auroc: 0.901712954044342, pre: 0.6894341707229614, avg percent: 0.6858692169189453\n"
     ]
    },
    {
     "name": "stderr",
     "output_type": "stream",
     "text": [
      "  2%|▏         | 64/3697 [00:07<06:41,  9.06it/s]\n"
     ]
    },
    {
     "ename": "KeyboardInterrupt",
     "evalue": "",
     "output_type": "error",
     "traceback": [
      "\u001b[0;31m---------------------------------------------------------------------------\u001b[0m",
      "\u001b[0;31mKeyboardInterrupt\u001b[0m                         Traceback (most recent call last)",
      "\u001b[0;32m/tmp/ipykernel_2298314/4043893902.py\u001b[0m in \u001b[0;36m<module>\u001b[0;34m\u001b[0m\n\u001b[1;32m     15\u001b[0m \u001b[0mbest_pre\u001b[0m \u001b[0;34m=\u001b[0m \u001b[0mfloat\u001b[0m\u001b[0;34m(\u001b[0m\u001b[0;34m'-inf'\u001b[0m\u001b[0;34m)\u001b[0m\u001b[0;34m\u001b[0m\u001b[0;34m\u001b[0m\u001b[0m\n\u001b[1;32m     16\u001b[0m \u001b[0;32mfor\u001b[0m \u001b[0mepoch\u001b[0m \u001b[0;32min\u001b[0m \u001b[0mrange\u001b[0m\u001b[0;34m(\u001b[0m\u001b[0mnum_epochs\u001b[0m\u001b[0;34m)\u001b[0m\u001b[0;34m:\u001b[0m\u001b[0;34m\u001b[0m\u001b[0;34m\u001b[0m\u001b[0m\n\u001b[0;32m---> 17\u001b[0;31m     \u001b[0mtrain\u001b[0m\u001b[0;34m(\u001b[0m\u001b[0mmodel\u001b[0m\u001b[0;34m,\u001b[0m \u001b[0mepoch\u001b[0m\u001b[0;34m,\u001b[0m \u001b[0mcriterion\u001b[0m\u001b[0;34m,\u001b[0m \u001b[0moptimizer\u001b[0m\u001b[0;34m,\u001b[0m \u001b[0mtrain_loader\u001b[0m\u001b[0;34m)\u001b[0m\u001b[0;34m\u001b[0m\u001b[0;34m\u001b[0m\u001b[0m\n\u001b[0m\u001b[1;32m     18\u001b[0m     \u001b[0mpre\u001b[0m \u001b[0;34m=\u001b[0m \u001b[0mvalidate\u001b[0m\u001b[0;34m(\u001b[0m\u001b[0mmodel\u001b[0m\u001b[0;34m,\u001b[0m \u001b[0mepoch\u001b[0m\u001b[0;34m,\u001b[0m \u001b[0mcriterion\u001b[0m\u001b[0;34m,\u001b[0m \u001b[0mval_loader\u001b[0m\u001b[0;34m)\u001b[0m\u001b[0;34m\u001b[0m\u001b[0;34m\u001b[0m\u001b[0m\n\u001b[1;32m     19\u001b[0m     \u001b[0;32mif\u001b[0m \u001b[0mpre\u001b[0m \u001b[0;34m>\u001b[0m \u001b[0mbest_pre\u001b[0m\u001b[0;34m:\u001b[0m\u001b[0;34m\u001b[0m\u001b[0;34m\u001b[0m\u001b[0m\n",
      "\u001b[0;32m/tmp/ipykernel_2298314/872137636.py\u001b[0m in \u001b[0;36mtrain\u001b[0;34m(model, epoch, criterion, optimizer, train_loader)\u001b[0m\n\u001b[1;32m     13\u001b[0m         \u001b[0mloss\u001b[0m\u001b[0;34m.\u001b[0m\u001b[0mbackward\u001b[0m\u001b[0;34m(\u001b[0m\u001b[0;34m)\u001b[0m\u001b[0;34m\u001b[0m\u001b[0;34m\u001b[0m\u001b[0m\n\u001b[1;32m     14\u001b[0m         \u001b[0moptimizer\u001b[0m\u001b[0;34m.\u001b[0m\u001b[0mstep\u001b[0m\u001b[0;34m(\u001b[0m\u001b[0;34m)\u001b[0m\u001b[0;34m\u001b[0m\u001b[0;34m\u001b[0m\u001b[0m\n\u001b[0;32m---> 15\u001b[0;31m         \u001b[0mlosses\u001b[0m\u001b[0;34m.\u001b[0m\u001b[0mappend\u001b[0m\u001b[0;34m(\u001b[0m\u001b[0mloss\u001b[0m\u001b[0;34m.\u001b[0m\u001b[0mcpu\u001b[0m\u001b[0;34m(\u001b[0m\u001b[0;34m)\u001b[0m\u001b[0;34m.\u001b[0m\u001b[0mdetach\u001b[0m\u001b[0;34m(\u001b[0m\u001b[0;34m)\u001b[0m\u001b[0;34m)\u001b[0m\u001b[0;34m\u001b[0m\u001b[0;34m\u001b[0m\u001b[0m\n\u001b[0m\u001b[1;32m     16\u001b[0m         \u001b[0mground_truth\u001b[0m\u001b[0;34m.\u001b[0m\u001b[0mappend\u001b[0m\u001b[0;34m(\u001b[0m\u001b[0mlabel\u001b[0m\u001b[0;34m)\u001b[0m\u001b[0;34m\u001b[0m\u001b[0;34m\u001b[0m\u001b[0m\n\u001b[1;32m     17\u001b[0m         \u001b[0mprediction\u001b[0m\u001b[0;34m.\u001b[0m\u001b[0mappend\u001b[0m\u001b[0;34m(\u001b[0m\u001b[0moutput\u001b[0m\u001b[0;34m)\u001b[0m\u001b[0;34m\u001b[0m\u001b[0;34m\u001b[0m\u001b[0m\n",
      "\u001b[0;31mKeyboardInterrupt\u001b[0m: "
     ]
    }
   ],
   "source": [
    "model_name = 'musicnn_title'\n",
    "learning_rate = 1e-4\n",
    "num_epochs = 10\n",
    "model = get_model(model_name, tags)\n",
    "criterion = nn.BCELoss()\n",
    "optimizer = torch.optim.Adam(model.parameters(), lr=learning_rate, weight_decay=1e-4)\n",
    "print(\"Training and validating model...\")\n",
    "writer = SummaryWriter('runs/{}_{}_{}_{}'.format(model_name, learning_rate, batch_size, len(tags)))\n",
    "logging.basicConfig(filename=\"log/log_{}_{}_{}_{}\".format(model_name, learning_rate, batch_size, len(tags)),\n",
    "                    format='%(asctime)s,%(msecs)d %(name)s %(levelname)s %(message)s',\n",
    "                    datefmt='%H:%M:%S',\n",
    "                    level=logging.INFO)\n",
    "best_pre = float('-inf')\n",
    "for epoch in range(num_epochs):\n",
    "    train(model, epoch, criterion, optimizer, train_loader, True)\n",
    "    pre = validate(model, epoch, criterion, val_loader, True)\n",
    "    if pre > best_pre:\n",
    "        print(\"Best avg precision:\", pre)\n",
    "        best_pre = pre\n",
    "        torch.save(model.state_dict(), 'model/{}_best_score_{}_{}.pt'.format(model_name, learning_rate, len(tags)))"
   ]
  },
  {
   "cell_type": "code",
   "execution_count": 8,
   "metadata": {},
   "outputs": [
    {
     "name": "stdout",
     "output_type": "stream",
     "text": [
      "Counter({'happy': 1340, 'film': 1199, 'relaxing': 1091, 'energetic': 1055, 'emotional': 1035, 'melodic': 965, 'dark': 957, 'epic': 799, 'dream': 750, 'love': 736, 'inspiring': 710, 'sad': 611, 'meditative': 598, 'uplifting': 558, 'advertising': 557, 'deep': 532, 'motivational': 512, 'romantic': 504, 'christmas': 500, 'documentary': 486, 'corporate': 482, 'positive': 422, 'summer': 414, 'space': 406, 'background': 388, 'soundscape': 388, 'soft': 371, 'calm': 369, 'children': 367, 'adventure': 366, 'fun': 366, 'upbeat': 361, 'ambiental': 361, 'melancholic': 358, 'drama': 346, 'slow': 345, 'commercial': 344, 'movie': 329, 'action': 325, 'ballad': 258, 'dramatic': 257, 'sport': 237, 'trailer': 223, 'party': 222, 'nature': 216, 'game': 215, 'cool': 202, 'powerful': 189, 'groovy': 167, 'hopeful': 165, 'funny': 162, 'retro': 161, 'holiday': 140, 'travel': 131, 'mellow': 125, 'horror': 121, 'heavy': 113, 'sexy': 97, 'fast': 92})\n",
      "torch.Size([3698, 59])\n",
      "auroc: 0.5, pre: 0.0, avg percent: 0.04998471587896347\n"
     ]
    }
   ],
   "source": [
    "def baseline1(tag_file, npy_root, batch_size, isMap, val_loader, tags):\n",
    "    whole_filenames = sorted(glob.glob(os.path.join(npy_root, \"*/*.npy\")))\n",
    "    train_size = int(len(whole_filenames) * 0.8)\n",
    "    # val_size = int(len(whole_filenames) * 0.95)\n",
    "    filenames = []\n",
    "    random.shuffle(whole_filenames)\n",
    "    train_filenames = whole_filenames[:train_size]\n",
    "    train_ids = []\n",
    "    for filename in train_filenames:\n",
    "        train_ids.append(filename.split('/')[-2] + '/' + filename.split('/')[-1])\n",
    "    if isMap:\n",
    "        f = open('tag_categorize.json')\n",
    "        data = json.load(f)\n",
    "        categorize = {}\n",
    "        for k, v in data.items():\n",
    "            for i in v[1:-1].split(', '):\n",
    "                categorize[i] = k\n",
    "    train_total_tags = []\n",
    "    with open(tag_file) as fp:\n",
    "        reader = csv.reader(fp, delimiter='\\t')\n",
    "        next(reader, None)  # skip header\n",
    "        for row in reader:\n",
    "            if row[3].replace('.mp3', '.npy') not in train_ids:\n",
    "                # if not in train set\n",
    "                continue\n",
    "            if not os.path.exists(os.path.join(npy_root, row[3].replace('.mp3', '.npy'))):\n",
    "                print(os.path.join(npy_root, row[3].replace('.mp3', '.npy')))\n",
    "                continue\n",
    "            tmp = []\n",
    "            for tag in row[5:]:\n",
    "                if isMap:\n",
    "                    tmp.append(categorize[tag.split('---')[-1]])\n",
    "                else:\n",
    "                    tmp.append(tag.split('---')[-1])\n",
    "            train_total_tags += list(set(tmp))\n",
    "\n",
    "    train_dist_tags = collections.Counter(train_total_tags)\n",
    "    print(train_dist_tags)\n",
    "    total = 0\n",
    "    for v in train_dist_tags.values():\n",
    "        total += v\n",
    "    probs = []\n",
    "    for t in tags:\n",
    "        probs.append(train_dist_tags[t]/total)\n",
    "    labels, outputs = [], []\n",
    "    for _, _, _, label in val_loader:  \n",
    "        labels.append(label)\n",
    "        for _ in range(label.size(0)):\n",
    "            outputs.append(probs)\n",
    "    \n",
    "    outputs = torch.Tensor(outputs)\n",
    "    labels = torch.cat(labels, dim=0)\n",
    "    print(outputs.shape)\n",
    "    assert outputs.shape == labels.shape, \"{}, {}\".format(outputs.shape, labels.shape)\n",
    "    # 1. number of correctly predicted tags divided by the total number of tags\n",
    "    prob_classes = []\n",
    "    for i in range(labels.size(0)):\n",
    "        label = labels[i]\n",
    "        k = label.sum()\n",
    "        _, idx = outputs[i].topk(k=k)\n",
    "        predict = torch.zeros_like(outputs[i])\n",
    "        predict[idx] = 1\n",
    "        # print(k, predict)\n",
    "        prob_classes.append(predict)\n",
    "    prob_classes = torch.stack(prob_classes)\n",
    "    matched_1s = torch.mul(prob_classes, labels)\n",
    "    correct_tag_percentage = matched_1s.sum() / labels.sum()\n",
    "\n",
    "    # 2. Auroc\n",
    "    auroc = multilabel_auroc(outputs, labels, num_labels=N_CLASSES, average=\"macro\", thresholds=None).item()\n",
    "\n",
    "    # 3. avg precision\n",
    "    metric = MultilabelPrecision(average='macro', num_labels=N_CLASSES, thresholds=None).to(device)\n",
    "    pre = metric(outputs, labels).item()\n",
    "\n",
    "    print(\"auroc: {}, pre: {}, avg percent: {}\".format(auroc, pre, correct_tag_percentage))\n",
    "baseline1(tag_file, npy_root, batch_size, False, val_loader, tags)"
   ]
  },
  {
   "cell_type": "code",
   "execution_count": null,
   "metadata": {},
   "outputs": [],
   "source": []
  }
 ],
 "metadata": {
  "accelerator": "GPU",
  "colab": {
   "machine_shape": "hm",
   "provenance": []
  },
  "gpuClass": "premium",
  "kernelspec": {
   "display_name": "Python 3",
   "language": "python",
   "name": "python3"
  },
  "language_info": {
   "codemirror_mode": {
    "name": "ipython",
    "version": 3
   },
   "file_extension": ".py",
   "mimetype": "text/x-python",
   "name": "python",
   "nbconvert_exporter": "python",
   "pygments_lexer": "ipython3",
   "version": "3.9.7"
  },
  "vscode": {
   "interpreter": {
    "hash": "31f2aee4e71d21fbe5cf8b01ff0e069b9275f58929596ceb00d14d90e3e16cd6"
   }
  }
 },
 "nbformat": 4,
 "nbformat_minor": 1
}
